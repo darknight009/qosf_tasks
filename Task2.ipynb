{
 "cells": [
  {
   "cell_type": "markdown",
   "metadata": {},
   "source": [
    "# Task 2 \n",
    "\n",
    "## Problem Statement\n",
    "\n",
    "\n",
    "_Implement a circuit that returns $\\lvert01\\rangle$ and $\\lvert10\\rangle$ with equal probability._\n",
    "\n",
    "**Requirements:**\n",
    "- The circuit should consist only of CNOTs, RXs and RYs. \n",
    "- Start from all parameters in parametric gates being equal to 0 or randomly chosen. \n",
    "- You should find the right set of parameters using gradient descent (you might use more advanced optimization methods if you like). \n",
    "- Simulations must be done with sampling - i.e. a limited number of measurements per iteration and noise. \n",
    "\n",
    "Compare the results for different numbers of measurements: 1, 10, 100, 1000. \n",
    "\n",
    "**Bonus:**\n",
    "How to make sure you produce state $\\lvert01\\rangle$ + $\\lvert10\\rangle$ and not $\\lvert01\\rangle$ - $\\lvert10\\rangle$?"
   ]
  },
  {
   "cell_type": "markdown",
   "metadata": {},
   "source": [
    "### Approach\n",
    "Consider a system of two qubits (q1 and q2) in the following states:\n",
    "\n",
    "q1: $\\lvert\\psi_1\\rangle = \\frac{1}{\\sqrt{2}}\\lvert0\\rangle + \\frac{1}{\\sqrt{2}}e^{i\\phi}\\lvert1\\rangle$\n",
    "\n",
    "q2: $\\lvert\\psi_2\\rangle = \\lvert1\\rangle$\n",
    "\n",
    "$\\lvert\\psi^{'}\\rangle =$ q1 $\\otimes$ q2 $= \\frac{1}{\\sqrt{2}}\\lvert01\\rangle + \\frac{1}{\\sqrt{2}}e^{i\\phi}\\lvert11\\rangle$\n",
    "\n",
    "\n",
    "Now, applying a [CNOT](https://qiskit.org/documentation/stubs/qiskit.circuit.library.CXGate.html#qiskit.circuit.library.CXGate) gate from q1 to q2 generates the required state with 50% probability of $\\lvert01\\rangle$ and $\\lvert10\\rangle$ each:\n",
    "$$\\lvert\\psi\\rangle = \\frac{1}{\\sqrt{2}}\\lvert01\\rangle + \\frac{1}{\\sqrt{2}}e^{i\\phi}\\lvert10\\rangle$$\n",
    "\n",
    "If we start with a qubit in state |0>, applying [RY](https://qiskit.org/documentation/stubs/qiskit.circuit.library.RYGate.html) followed [RX](https://qiskit.org/documentation/stubs/qiskit.circuit.library.RXGate.html) gate can be represented by the following process:\n",
    "\n",
    "$$\n",
    "\\lvert0\\rangle\n",
    "\\xrightarrow{RY(\\theta_1)}\n",
    "\\begin{bmatrix} \n",
    "    \\cos(\\frac{\\theta_1}{2}) \\\\\n",
    "    \\sin(\\frac{\\theta_1}{2})\n",
    "\\end{bmatrix}\n",
    "\\xrightarrow{RX(\\theta_2)}\n",
    "\\begin{bmatrix} \n",
    "    \\cos(\\frac{\\theta_1}{2})\\cos(\\frac{\\theta_2}{2}) - i\\sin(\\frac{\\theta_1}{2})\\sin(\\frac{\\theta_2}{2}) \\\\\n",
    "    \\sin(\\frac{\\theta_1}{2})\\cos(\\frac{\\theta_2}{2})-i\\cos(\\frac{\\theta_1}{2})\\sin(\\frac{\\theta_2}{2}) \n",
    "\\end{bmatrix}\n",
    "$$\n",
    "\n",
    "Our target is to start with randomly initialized parameters ([$\\theta_1, \\theta_2$]) for each qubit and arrive at values which would transform:\n",
    "\n",
    "for q1:\t$\\lvert0\\rangle \\xrightarrow{RY(\\theta_11) RX(\\theta_12)} \\lvert\\psi_1\\rangle$\n",
    "\n",
    "for q2: $\\lvert0\\rangle \\xrightarrow{RY(\\theta_21) RX(\\theta_22)} \\lvert 1\\rangle$"
   ]
  },
  {
   "cell_type": "markdown",
   "metadata": {},
   "source": [
    "### Probability function\n",
    "\n",
    "Our parametrized final state after RX and RY can be written as\n",
    "$$\n",
    "\\lvert\\psi_{param}\\rangle = \n",
    "\\begin{bmatrix} \n",
    "    \\cos(\\frac{\\theta_1}{2})\\cos(\\frac{\\theta_2}{2}) - i\\sin(\\frac{\\theta_1}{2})\\sin(\\frac{\\theta_2}{2}) \\\\\n",
    "    \\sin(\\frac{\\theta_1}{2})\\cos(\\frac{\\theta_2}{2})-i\\cos(\\frac{\\theta_1}{2})\\sin(\\frac{\\theta_2}{2}) \n",
    "\\end{bmatrix}\n",
    "$$\n",
    "Thus the probabilities using Born’s rule:\n",
    "\n",
    "$P_0 = \\cos^2(\\frac{\\theta_1}{2})\\cos^2(\\frac{\\theta_2}{2}) + \\sin^2(\\frac{\\theta_1}{2})\\sin^2(\\frac{\\theta_2}{2})$\n",
    "\n",
    "$P_1 = \\cos^2(\\frac{\\theta_1}{2})\\sin^2(\\frac{\\theta_2}{2}) + \\sin^2(\\frac{\\theta_1}{2})\\cos^2(\\frac{\\theta_2}{2})$\n",
    "\n",
    "### Cost function\n",
    "Since we can only measure the probabilities of a state, the cost function will be defined in terms of actual probabilities $(P0 , P1)$ and expected probabilities $(E0 , E1)$. The cost function used is the square error as it only converges to 0 when all the terms are 0 individually.\n",
    "\n",
    "Cost = $(P_0 – E_0) ^2 + (P_1 – E_1) ^2$\n",
    "\n",
    "The square error also has a nice property that when differentiated, the gradient contains a factor of dependent variable which in our case is the only value we can measure.<br>\n",
    "$\\frac{\\mathrm{d} (cost)}{\\mathrm{d}\\theta_i} = 2(P_0 – E_0)*\\frac{\\mathrm{d} P_0}{\\mathrm{d}\\theta_i} + 2*(P_1 – E_1)*\\frac{\\mathrm{d} P_1}{\\mathrm{d}\\theta_i}$\n",
    "\n",
    "Since expected probabilities are different, cost function will be defined separately.\n",
    "\n",
    "For q1: cost = $(P_0 – 0.5) ^2 + (P_1 – 0.5) ^2$\n",
    "\n",
    "For q2: cost = $(P_0 – 1) ^2 + (P_1 – 0) ^2$\n",
    "\n",
    "### Gradient Descent\n",
    "The gradient descent update formula is written as:\n",
    "$\\theta_{i} = \\theta_{i} - \\frac{\\mathrm{d} (cost)}{\\mathrm{d}\\theta_i}$\n",
    "\n",
    "Using chain rule,\n",
    "$\\frac{\\mathrm{d} (cost)}{\\mathrm{d}\\theta_i} = 2(P_0 – E_0)*\\frac{\\mathrm{d} P_0}{\\mathrm{d}\\theta_i} + 2*(P_1 – E_1)*\\frac{\\mathrm{d} P_1}{\\mathrm{d}\\theta_i}$\n",
    "where $P_0 and P_1$ have been defined above in the probability function \n",
    "\n",
    "All these calculations will be performed symbolically using SymPy.\n",
    "\n",
    "### Environment\n",
    "We will use *Qiskit* as the main quantum library. The equations will be expressed symbolically using *SymPy* and we will write a custom loop for gradient descent"
   ]
  },
  {
   "cell_type": "code",
   "execution_count": null,
   "metadata": {},
   "outputs": [],
   "source": [
    "# installing a few dependencies\n",
    "!pip install --upgrade matplotlib==3.2.0\n",
    "!pip install --upgrade qiskit==0.19.6\n",
    "\n",
    "# the output will be cleared after installation\n",
    "from IPython.display import clear_output\n",
    "clear_output()"
   ]
  },
  {
   "cell_type": "code",
   "execution_count": 4,
   "metadata": {},
   "outputs": [],
   "source": [
    "from qiskit import QuantumCircuit, execute, Aer, IBMQ\n",
    "from qiskit.providers.aer.noise import NoiseModel\n",
    "from qiskit.test.mock import FakeVigo\n",
    "from qiskit.visualization import plot_histogram\n",
    "import matplotlib.pyplot as plt\n",
    "\n",
    "import numpy as np\n",
    "\n",
    "from sympy import *"
   ]
  },
  {
   "cell_type": "code",
   "execution_count": 5,
   "metadata": {},
   "outputs": [
    {
     "name": "stderr",
     "output_type": "stream",
     "text": [
      "ibmqfactory.load_account:WARNING:2020-09-27 00:59:27,681: Credentials are already in use. The existing account in the session will be replaced.\n"
     ]
    }
   ],
   "source": [
    "provider = IBMQ.load_account()\n",
    "backend = provider.get_backend('ibmq_vigo')\n",
    "noise_model = NoiseModel.from_backend(backend)\n",
    "backend=Aer.get_backend('qasm_simulator')"
   ]
  },
  {
   "cell_type": "markdown",
   "metadata": {},
   "source": [
    "### Qubit class\n",
    "We will create a class which will contain attributes of a single qubit\n",
    "\n",
    "**$inp$** : since both qubits start in $\\lvert0\\rangle$ state, the probability initial state is defined as [1, 0]\n",
    "\n",
    "**$target$** : for q1 the target state will be $[0.5, 0.5]$ and $[0,1]$ for q2\n",
    "\n",
    "**$t1$** : symbolic parameter for Ry gate\n",
    "\n",
    "**$t2$** : symbolic parameter for Rx gate\n",
    "\n",
    "**$P_0$** : symbolic observed probability of |0>\n",
    "\n",
    "**$P_1$** : symbolic observed probability of |1>\n",
    "\n",
    "**$thetas$** : a pair of randomly initialized $t1$ and $t2$ between $[0, 2\\pi]$. Updated at each step of gradient descent\n",
    "\n",
    "**$sym\\_state$** : the final state of the qubit will be represented in terms of t1 and t2 using symbols\n",
    "\n",
    "**$sym\\_prob$** : represents the symbolic probabilities of finding state $\\lvert0\\rangle$ and $\\lvert1\\rangle$\n",
    "\n",
    "**$cost\\_fn$** : using the $target$, $cost\\_fn$ is defined in terms of $P_0$ and $P_1$\n",
    "\n",
    "**$grad\\_t1, grad\\_t2$** : represent the gradients of the cost function with respect to t1 and t2 respectively.\n",
    "\n",
    "**$cost\\_val$** : represents cost of the circuit. Initialized to a large positive value. Updated at each step of gradient descent\n",
    "\n",
    "**$circuit$** : the physical circuit which applies Rx and Ry rotations to a qubit"
   ]
  },
  {
   "cell_type": "code",
   "execution_count": 7,
   "metadata": {},
   "outputs": [],
   "source": [
    "class qubit:\n",
    "    def __init__(self, inp, target):\n",
    "        self.inp = Matrix(inp)\n",
    "        self.target = target\n",
    "        self.t1 = Symbol('t1', real=True)\n",
    "        self.t2 = Symbol('t2', real=True)\n",
    "        self.p0 = Symbol('p0', real=True)\n",
    "        self.p1 = Symbol('p1', real=True)\n",
    "        self.thetas = 2*np.pi*np.random.rand(2)\n",
    "        self.sym_state = self.final_state(self.t1, self.t2)\n",
    "        self.sym_prob = self.sym_probability(self.sym_state)\n",
    "        self.cost_fn = self.sym_cost(self.p0, self.p1)\n",
    "        self.grad_t1, self.grad_t2 = self.gradients(self.sym_prob, self.cost_fn)\n",
    "        self.cost_val=100\n",
    "        self.circuit = self.create_circuit()\n",
    "    \n",
    "    def final_state(self, t1, t2):\n",
    "        ry = Matrix([[cos(t1/2), -sin(t1/2)], [sin(t1/2), cos(t1/2)]])\n",
    "        rx = Matrix([[cos(t2/2), -I*sin(t2/2)], [-I*sin(t2/2), cos(t2/2)]])\n",
    "        return rx*ry*self.inp\n",
    "    \n",
    "    def sym_probability(self, state):\n",
    "        return abs(state).applyfunc(lambda x: x**2)\n",
    "    \n",
    "    def sym_cost(self, p0, p1):\n",
    "        return (Matrix([p0,p1])-Matrix(self.target)).applyfunc(lambda x: x**2)\n",
    "    \n",
    "    def gradients(self, sym_prob, cost_fn):        \n",
    "        # first differentiate cost function with respect to P0 and P1\n",
    "        cost_der = Matrix([Derivative(cost_fn[0],self.p0).doit(), Derivative(cost_fn[1],self.p1).doit()])\n",
    "        \n",
    "        # differentate P0 and P1 wrt t1\n",
    "        grad_t1 = Matrix(simplify(simplify(derive_by_array(sym_prob, self.t1))))\n",
    "        \n",
    "        # multiply with derivative of cost function wrt P0 and P1\n",
    "        grad_t1 = cost_der.multiply_elementwise(grad_t1)\n",
    "        \n",
    "        #lambdify to pass numerical values into the parameterized function\n",
    "        grad_t1 = lambdify( [self.p0, self.p1, self.t1,self.t2], grad_t1, \"numpy\" )\n",
    "        \n",
    "        #differentiate P0 and P1 wrt t2\n",
    "        grad_t2 = Matrix(simplify(simplify(derive_by_array(sym_prob, self.t2))))\n",
    "        \n",
    "        # multiply with derivative of cost function wrt P0 and P1\n",
    "        grad_t2 = cost_der.multiply_elementwise(grad_t2)\n",
    "        \n",
    "        #lambdify to pass numerical values into the parameterized function\n",
    "        grad_t2 = lambdify( [self.p0, self.p1, self.t1, self.t2], grad_t2, \"numpy\" )\n",
    "        \n",
    "        return grad_t1, grad_t2\n",
    "        \n",
    "    def grad_val(self, state): #calculated numerical gradients\n",
    "        updfac_t1 = sum(self.grad_t1(*state, *self.thetas))[0]\n",
    "        updfac_t2 = sum(self.grad_t2(*state, *self.thetas))[0]\n",
    "        return [updfac_t1, updfac_t2]\n",
    "    \n",
    "    def create_circuit(self): # circuit for each qubit\n",
    "        circuit = QuantumCircuit(1)\n",
    "        circuit.rx(self.thetas[0], 0)\n",
    "        circuit.ry(self.thetas[1], 0)\n",
    "        circuit.measure_all()\n",
    "        self.circuit = circuit\n",
    "    \n",
    "    def rotations(self, theta): #apply rotations of Rx and Ry\n",
    "        self.thetas = theta\n",
    "        self.create_circuit()\n",
    "        \n",
    "    def cost(self, state): #calculate cost of current state\n",
    "        temp_cost_fn = self.cost_fn\n",
    "        temp_cost_fn = lambdify( [self.p0,self.p1], sum(temp_cost_fn), \"numpy\" )\n",
    "        self.cost_val = temp_cost_fn(*state)\n",
    "        return self.cost_val"
   ]
  },
  {
   "cell_type": "code",
   "execution_count": 8,
   "metadata": {},
   "outputs": [],
   "source": [
    "#converts observed outputs of |0> and |1> states into probabilities\n",
    "def result_state(res, shots):\n",
    "    state=[0,0]\n",
    "    if '1' in res:\n",
    "        state[1] = res['1']/shots\n",
    "    if '0' in res:\n",
    "        state[0] = res['0']/shots\n",
    "    return state\n",
    "\n",
    "#update method for gradient descent\n",
    "def update(q, state):\n",
    "    grads = q.grad_val(state)\n",
    "    q.thetas[0] -= 0.1*grads[0]\n",
    "    q.thetas[1] -= 0.1*grads[1]\n",
    "    q.thetas %= 2*np.pi\n",
    "\n",
    "#apply parameter values to the qubit circuit to calculate it's output state\n",
    "def apply_trans(q, shots):\n",
    "    q.rotations(q.thetas)\n",
    "    res = execute(q.circuit, backend = backend, shots=shots).result().get_counts() \n",
    "    state = result_state(res, shots)\n",
    "    q.cost(state)\n",
    "    update(q, state)\n",
    "\n",
    "#the optimizer loop for gradient descent\n",
    "def optimize(qubits, shots, epochs = 1000):\n",
    "    cost = [[], []]\n",
    "    for i in range(1000):\n",
    "        if abs(qubits[0].cost_val) + abs(qubits[1].cost_val) == 0: #stopping conditon when cost is 0\n",
    "            print(\"Finished for {} shots in {} iterations, final loss for q1: {} and q2: {}\".format(shots, i, cost[0][-1], cost[1][-1]))\n",
    "            return cost\n",
    "        for q in range(len(qubits)):\n",
    "            if qubits[q].cost_val != 0:\n",
    "                apply_trans(qubits[q], shots)\n",
    "                cost[q].append(qubits[q].cost_val)\n",
    "\n",
    "    print(\"Finished for {} shots in {} iterations, final loss for q1: {} and q2: {}\".format(shots, 1000, cost[0][-1], cost[1][-1]))\n",
    "    return cost"
   ]
  },
  {
   "cell_type": "code",
   "execution_count": 9,
   "metadata": {},
   "outputs": [
    {
     "name": "stdout",
     "output_type": "stream",
     "text": [
      "Finished for 1 shots in 1000 iterations, final loss for q1: 0.5 and q2: 0.0\n",
      "Finished for 10 shots in 29 iterations, final loss for q1: 0.0 and q2: 0.0\n",
      "Finished for 100 shots in 85 iterations, final loss for q1: 0.0 and q2: 0.0\n",
      "Finished for 1000 shots in 480 iterations, final loss for q1: 0.0 and q2: 0.0\n"
     ]
    }
   ],
   "source": [
    "shots = [1, 10, 100, 1000]\n",
    "loss = [] # will the loss at each step of gradient descent for different shot counts [[], [], [], []]\n",
    "thetas = [] # final parameter values for each shot count for each wubit[[[q1], [q2]], ...]\n",
    "for i in shots:\n",
    "    q1 = qubit([1, 0], [0.5, 0.5]) #qubit(initial_probabilities, final_probabilities)\n",
    "    q2 = qubit([1, 0], [0, 1])\n",
    "    loss.append(optimize([q1, q2], i))\n",
    "    thetas.append([q1.thetas, q2.thetas])"
   ]
  },
  {
   "cell_type": "code",
   "execution_count": 10,
   "metadata": {},
   "outputs": [
    {
     "data": {
      "image/png": "[encoded data removed]",
      "text/plain": [
       "<Figure size 432x288 with 4 Axes>"
      ]
     },
     "metadata": {
      "needs_background": "light"
     },
     "output_type": "display_data"
    }
   ],
   "source": [
    "fig = plt.figure()\n",
    "for i in range(len(shots)):\n",
    "    ax = fig.add_subplot(len(shots)**0.5, len(shots)/len(shots)**0.5, i+1)\n",
    "    ax.plot(range(len(loss[i][0])), loss[i][0], 'r--')\n",
    "    ax.plot(range(len(loss[i][1])), loss[i][1], 'b-')\n",
    "    ax.legend(['q1', 'q2'], title=\"Shots = \"+str(shots[i]), loc=1, fontsize='small', fancybox=True)\n",
    "    ax.set_xlabel('Iterations')\n",
    "    ax.set_ylabel('Loss')\n",
    "fig.tight_layout()"
   ]
  },
  {
   "cell_type": "code",
   "execution_count": 11,
   "metadata": {},
   "outputs": [],
   "source": [
    "#the combined circuit using optimized parameters of q1 and q2\n",
    "def circuit(t1, t2):\n",
    "    qc = QuantumCircuit(2)\n",
    "    qc.ry(t1[0], 0)\n",
    "    qc.rx(t1[1], 0)\n",
    "    qc.ry(t2[0], 1)\n",
    "    qc.rx(t2[1], 1)\n",
    "    qc.cx(0,1)\n",
    "    qc.measure_all()\n",
    "    qc.draw()\n",
    "    return qc"
   ]
  },
  {
   "cell_type": "markdown",
   "metadata": {},
   "source": [
    "#### Note\n",
    "After running gradient descent on different number shots, the final probability histogram is plotted with 1000 shots and noise for all the calculated states so that we can compare which experimental setup(shot count) produces best results."
   ]
  },
  {
   "cell_type": "code",
   "execution_count": 12,
   "metadata": {},
   "outputs": [
    {
     "data": {
      "image/png": "[encoded data removed]",
      "text/plain": [
       "<Figure size 864x360 with 1 Axes>"
      ]
     },
     "execution_count": 12,
     "metadata": {},
     "output_type": "execute_result"
    }
   ],
   "source": [
    "plots = []\n",
    "legend = []\n",
    "circ = 0\n",
    "for i in range(len(shots)):\n",
    "    circ = circuit(thetas[i][0], thetas[i][1])\n",
    "    plot = execute(circ, backend = backend, shots=1000).result().get_counts()\n",
    "    plots.append(plot)\n",
    "    legend.append(str(shots[i])+ \" shots\")\n",
    "\n",
    "plot_histogram(plots, legend=legend, figsize=(12,5))"
   ]
  },
  {
   "cell_type": "markdown",
   "metadata": {},
   "source": [
    "### Observations:\n",
    "**1 shot measurement:** <br>\n",
    "  In the measurement output of a single qubit we either get $\\lvert0\\rangle$ or $\\lvert1\\rangle$ with probability 1.<br><br>\n",
    "  For q1, our target state is equidistant from $\\lvert0\\rangle$ and $\\lvert1\\rangle$ in terms of probability. The gradient descent cannot move in any particular direction because the loss is constant. Inserting values for $[P0, P1]$ as $[0,1]$ or $[1,0]$ gives a constant cost of 0.5. Thus our desired state is never achieved.<br><br>\n",
    "  For q2, the values of $[P0, P1]$ we are looking for are $[0, 1]$ which is easily achieved very quickly as it is one of the only two possibilities. Even though the cost is 0, it is very unlikely we reach our desired state $\\lvert1\\rangle$.\n",
    "\n",
    "**10 shot measurement:** <br>\n",
    "    With 10 shots the probabilities are no more binary values. But still the accuracy of measurements is not enough to give a fair picture of actual probabilities of the state. Thus we see a very erratic cost plot for 10 shots. We do achieve 0 loss for both q1 and q2 but that does not guarantee that we achieve the desired state which is evident from the histogram plot.\n",
    "\n",
    "**100 shot measurement:** <br>\n",
    "    The cost decreases smoothly with increase in number of iterations. Even though we had introduced noise, increasing the number of measurements cancels the effect of noise as the noise is expected to be equally spread between the $\\lvert0\\rangle$ and $\\lvert1\\rangle$ state. The final histogram also reflects that we are getting closer to the desired state probabilities with increased number of shots\n",
    "    \n",
    "**1000 shot measurement:** <br>\n",
    "    The plot of cost function with number of iterations is smoothest of all amongst our experiments and also the histogram plot depicts 1000 shots give the closest state to our target state with probabilities of 0.5 for both $\\lvert01\\rangle$ and $\\lvert10\\rangle$\n",
    "    \n",
    "These observations comply with the fact that \n",
    "$$\n",
    "\\begin{align*}\n",
    "P_0 = \\lim_{N \\rightarrow \\infty} \\frac{N_{0}}{N}\n",
    "\\qquad\n",
    "P_1 = \\lim_{N \\rightarrow \\infty} \\frac{N_{1}}{N}\n",
    "\\end{align*}\n",
    "$$\n",
    "\n",
    "where N0 is the number of |0⟩ measurement outcomes and N1 is the number of |1⟩. The measured and the actual probabilities get closer as we increase the number of measurements."
   ]
  },
  {
   "cell_type": "code",
   "execution_count": 13,
   "metadata": {},
   "outputs": [
    {
     "data": {
      "text/html": [
       "<pre style=\"word-wrap: normal;white-space: pre;background: #fff0;line-height: 1.1;font-family: &quot;Courier New&quot;,Courier,monospace\">        ┌────────────┐┌────────────┐      ░ ┌─┐   \n",
       "   q_0: ┤ RY(4.5862) ├┤ RX(5.0932) ├──■───░─┤M├───\n",
       "        ├───────────┬┘├────────────┤┌─┴─┐ ░ └╥┘┌─┐\n",
       "   q_1: ┤ RY(3.247) ├─┤ RX(6.1873) ├┤ X ├─░──╫─┤M├\n",
       "        └───────────┘ └────────────┘└───┘ ░  ║ └╥┘\n",
       "meas_0: ═════════════════════════════════════╩══╬═\n",
       "                                                ║ \n",
       "meas_1: ════════════════════════════════════════╩═\n",
       "                                                  </pre>"
      ],
      "text/plain": [
       "        ┌────────────┐┌────────────┐      ░ ┌─┐   \n",
       "   q_0: ┤ RY(4.5862) ├┤ RX(5.0932) ├──■───░─┤M├───\n",
       "        ├───────────┬┘├────────────┤┌─┴─┐ ░ └╥┘┌─┐\n",
       "   q_1: ┤ RY(3.247) ├─┤ RX(6.1873) ├┤ X ├─░──╫─┤M├\n",
       "        └───────────┘ └────────────┘└───┘ ░  ║ └╥┘\n",
       "meas_0: ═════════════════════════════════════╩══╬═\n",
       "                                                ║ \n",
       "meas_1: ════════════════════════════════════════╩═\n",
       "                                                  "
      ]
     },
     "execution_count": 13,
     "metadata": {},
     "output_type": "execute_result"
    }
   ],
   "source": [
    "#draw circuit for 1000 shots\n",
    "circ.draw()"
   ]
  },
  {
   "cell_type": "code",
   "execution_count": 16,
   "metadata": {},
   "outputs": [
    {
     "name": "stdout",
     "output_type": "stream",
     "text": [
      "Phase for  1  shots =  -0.7401018607566608\n",
      "Phase for  10  shots =  -1.1653747951181122\n",
      "Phase for  100  shots =  1.4621078502395075\n",
      "Phase for  1000  shots =  -0.25610649269697827\n"
     ]
    }
   ],
   "source": [
    "#print relative phase for [1, 10, 100, 1000] shots\n",
    "for i in range(len(thetas)):\n",
    "    phase = atan(tan(q1.t1)*tan(q1.t2)) - atan(tan(q1.t1)/tan(q1.t2))\n",
    "    phase = lambdify( [q1.t1, q1.t2], phase, \"numpy\" )\n",
    "    print(\"Phase for \",str(shots[i]), \" shots = \", phase(*thetas[i][0]))"
   ]
  },
  {
   "cell_type": "markdown",
   "metadata": {},
   "source": [
    "In the above cell we see that the states produced for q1 have some relative phase associated with them. Thus the final combined state will be of the form\n",
    "$$\n",
    "\\lvert\\psi_{bonus}\\rangle = \\frac{1}{\\sqrt{2}}\\lvert01\\rangle + \\frac{1}{\\sqrt{2}}e^{i\\phi}\\lvert10\\rangle\n",
    "$$"
   ]
  },
  {
   "cell_type": "markdown",
   "metadata": {},
   "source": [
    "### Bonus\n",
    "We are required to generate state with same probability outcomes as earlier, but we need to avoid relative phase in the generated state.\n",
    "$$\n",
    "\\lvert\\psi_{bonus}\\rangle = \\frac{1}{\\sqrt{2}}\\lvert01\\rangle + \\frac{1}{\\sqrt{2}}\\lvert10\\rangle\n",
    "$$\n",
    "\n",
    "### Approach\n",
    "If we could determine the phase in terms of the input parameters($[\\theta_1, \\theta_2]$), we could add a factor of the phase in the cost function which we try to minimize.\n",
    "\n",
    "Consider any general qubit state:\n",
    "\n",
    "$\\lvert q\\rangle = (a+ib) \\lvert0\\rangle + (c+id) \\lvert1\\rangle$\n",
    "\n",
    "where $a^2 + b^2 + c^2 + d^2 = 1$\n",
    "\n",
    "The coefficient of $a+ib$ can be written in its polar form $r_1e^{i\\phi_1}$, where $\\phi_1 = \\arctan(\\frac{b}{a})$ and $r_1 = \\sqrt{a^2+b^2}$. The phase of a complex number will be calculated symbolically using sympy.arg function\n",
    "\n",
    "Thus,\n",
    "\n",
    "$$\n",
    "\\lvert q\\rangle = r_1e^{i\\phi_1} \\lvert 0\\rangle + r_2e^{i\\phi_2} \\lvert 1\\rangle\n",
    "= e^{i\\phi_1} [r_1 \\lvert 0\\rangle + r_2e^{i(\\phi_2 – \\phi_1)} |1> ]\n",
    "$$\n",
    "\n",
    "We can ignore the global phase $e^{i\\phi_1}$. \n",
    "\n",
    "### Cost \n",
    "\n",
    "We are interested in minimizing the relative phase $e^{i(\\phi_2-\\phi_1)}$ along with minimizing our earlier defined cost function. We add a term for the cost of phase:\n",
    "$$\n",
    "Cost_\\phi = (\\phi_2-\\phi_1)^2\n",
    "$$\n",
    "Even though we will not have any circuit for measurement of the relative phase like probability, adding $Cost_\\phi$ to the original cost function will ensure that whatever direction gradient descent is moving, the $Cost_\\phi$ is also minimized. We used square difference because we are interested in only the distance between the phases. $-\\phi$ and $\\phi$ are equally distant from our target 0 phase.<br>\n",
    "Thus the cost function becomes:\n",
    "$$\n",
    "Cost = (P_0 – E_0) ^2 + (P_1 – E_1) ^2 + (\\phi_2-\\phi_1)^2\n",
    "$$\n",
    "The gradients can be calculated using derivatives as $\\phi_1$ and $\\phi_2$ can be expressed in terms of parameters $[\\theta_1, \\theta_2]$."
   ]
  },
  {
   "cell_type": "markdown",
   "metadata": {},
   "source": [
    "**Note:** Here we will only show the process on one qubit i.e q1 from our context. We don't need to take care of the phase of q2 because whatever phase is added to $|1\\rangle$ state will be added to the global phase of the final combined state. It won't have any effect on the relative phase of the system. It would have changed the relative phase if q2 was in any other state than $|0\\rangle$ or $|1\\rangle$. Thus the earlier process without the phase can be used to achieve target state of q2 followed by a CNOT gate from q1 to q2."
   ]
  },
  {
   "cell_type": "code",
   "execution_count": 224,
   "metadata": {},
   "outputs": [],
   "source": [
    "# only considers circuit for q1\n",
    "def bonus_circ(params):\n",
    "    qc = QuantumCircuit(1)\n",
    "    qc.ry(params[0], 0)\n",
    "    qc.rx(params[1], 0)\n",
    "    qc.measure_all()\n",
    "    return qc"
   ]
  },
  {
   "cell_type": "code",
   "execution_count": 225,
   "metadata": {},
   "outputs": [],
   "source": [
    "# define symbols and ry, rx rotation matrices\n",
    "t1 = Symbol('t1', real=True)\n",
    "t2 = Symbol('t2', real=True)\n",
    "p0 = Symbol('p0', real=True)\n",
    "p1 = Symbol('p1', real=True)\n",
    "ry = Matrix([[cos(t1/2), -sin(t1/2)], [sin(t1/2), cos(t1/2)]])\n",
    "rx = Matrix([[cos(t2/2), -I*sin(t2/2)], [-I*sin(t2/2), cos(t2/2)]])"
   ]
  },
  {
   "cell_type": "code",
   "execution_count": 247,
   "metadata": {},
   "outputs": [],
   "source": [
    "fin_state = simplify(simplify(rx*ry*Matrix([1,0]))) #final parametrized state\n",
    "prob = abs(fin_state).applyfunc(lambda x:x**2) # parametrized probabilities\n",
    "phase_bonus = arg(fin_state[1]) - arg(fin_state[0]) # parametrized phase\n",
    "\n",
    "# add the phase term to the cost function\n",
    "cost_bonus = Matrix([(p0-0.5)**2 , (p1-0.5)**2, phase_bonus**2])\n",
    "\n",
    "#differentiaition process \n",
    "cost_deriv = Matrix([Derivative(cost_bonus[0], p0).doit(), Derivative(cost_bonus[1], p1).doit()])\n",
    "\n",
    "grad_bonus_t1 = Matrix(derive_by_array(prob, t1))\n",
    "grad_bonus_t1 = cost_deriv.multiply_elementwise(grad_bonus_t1)\n",
    "grad_bonus_t1 = sum(grad_bonus_t1) + Derivative(phase_bonus**2, t1).doit()\n",
    "grad_bonus_t1 = lambdify( [p0, p1, t1, t2], grad_bonus_t1, \"numpy\" )\n",
    "\n",
    "grad_bonus_t2 = Matrix(derive_by_array(prob, t2))\n",
    "grad_bonus_t2 = cost_deriv.multiply_elementwise(grad_bonus_t2)\n",
    "grad_bonus_t2 = sum(grad_bonus_t2) + Derivative(phase_bonus**2, t2).doit()\n",
    "grad_bonus_t2 = lambdify( [p0, p1, t1, t2], grad_bonus_t2, \"numpy\" )\n",
    "\n",
    "cost_bonus = lambdify( [p0, p1, t1, t2], sum(cost_bonus), \"numpy\" )\n",
    "\n",
    "min_cost=100000 #store the minimum cost\n",
    "final_params=[] #thetas corresponding to the minimum cost\n",
    "\n",
    "params = 2*np.pi*np.random.rand(2)"
   ]
  },
  {
   "cell_type": "markdown",
   "metadata": {},
   "source": [
    "**Note:** It is very unlikely that we arrive at 0 cost because even when we arrive at the correct parameters, the observed probabilities will not be exactly 0.5 each. If the probabilities happen to be 0.5 then the phase might not exactly be 0. Earlier we were able to get 0 cost because when we got closer to desired state the phase was still off from actual by small amounts, but now since we included the phase term there will be some cost added either due to measured probabilities or due to the phase. Thus we will pick the state with minimum cost as our final state"
   ]
  },
  {
   "cell_type": "code",
   "execution_count": 244,
   "metadata": {},
   "outputs": [
    {
     "data": {
      "text/html": [
       "<pre style=\"word-wrap: normal;white-space: pre;background: #fff0;line-height: 1.1;font-family: &quot;Courier New&quot;,Courier,monospace\">        ┌────────────┐┌────────────┐ ░ ┌─┐\n",
       "   q_0: ┤ RY(1.5689) ├┤ RX(2.7616) ├─░─┤M├\n",
       "        └────────────┘└────────────┘ ░ └╥┘\n",
       "meas_0: ════════════════════════════════╩═\n",
       "                                          </pre>"
      ],
      "text/plain": [
       "        ┌────────────┐┌────────────┐ ░ ┌─┐\n",
       "   q_0: ┤ RY(1.5689) ├┤ RX(2.7616) ├─░─┤M├\n",
       "        └────────────┘└────────────┘ ░ └╥┘\n",
       "meas_0: ════════════════════════════════╩═\n",
       "                                          "
      ]
     },
     "execution_count": 244,
     "metadata": {},
     "output_type": "execute_result"
    }
   ],
   "source": [
    "# optimizer loop, 1000 epochs\n",
    "for i in range(1000):\n",
    "    ckt = bonus_circ(params)\n",
    "    res = execute(ckt, backend = backend, shots=1000).result().get_counts() \n",
    "    state = result_state(res, 1000)\n",
    "#     print(state)\n",
    "#     print(\"cost at step \", i, \" = \", cost_bonus(*state, *params))\n",
    "    if cost_bonus(*state, *params)==0:\n",
    "        break\n",
    "    \n",
    "    if cost_bonus(*state, *params)<=min_cost:\n",
    "        min_cost = cost_bonus(*state, *params)\n",
    "        final_params = params\n",
    "        \n",
    "    updfac_t1 = grad_bonus_t1(*state, *params) #calculate gradients\n",
    "    updfac_t2 = grad_bonus_t2(*state, *params) \n",
    "    grads_bon =  [updfac_t1, updfac_t2]\n",
    "    params[0] -= 0.1*grads_bon[0] # update parameters\n",
    "    params[1] -= 0.1*grads_bon[1]\n",
    "    params %= 2*np.pi # we know the solution exists between 0 2pi for both the parameters and qubits\n",
    "    \n",
    "circ_bonus = bonus_circ(final_params)\n",
    "circ_bonus.draw()"
   ]
  },
  {
   "cell_type": "code",
   "execution_count": 245,
   "metadata": {},
   "outputs": [
    {
     "data": {
      "image/png": "[encoded data removed]",
      "text/plain": [
       "<Figure size 504x360 with 1 Axes>"
      ]
     },
     "execution_count": 245,
     "metadata": {},
     "output_type": "execute_result"
    }
   ],
   "source": [
    "plot = execute(circ_bonus, backend = backend, shots=1000).result().get_counts()\n",
    "plot_histogram(plot, color='midnightblue', title=\"New Histogram\")"
   ]
  },
  {
   "cell_type": "code",
   "execution_count": 246,
   "metadata": {},
   "outputs": [
    {
     "name": "stdout",
     "output_type": "stream",
     "text": [
      "Final State:  [[0.13365001-0.69374211j]\n",
      " [0.13340283-0.69502752j]]\n",
      "Final Phase:  -0.0006865465446250774\n"
     ]
    }
   ],
   "source": [
    "print(\"Final State: \", lambdify( [t1, t2], fin_state, \"numpy\" )(*final_params))\n",
    "print(\"Final Phase: \",lambdify( [t1, t2], phase_bonus, \"numpy\" )(*final_params))"
   ]
  },
  {
   "cell_type": "markdown",
   "metadata": {},
   "source": [
    "### Conclusion\n",
    "We created a circuit using parameterized RX and RY gates and a constant CNOT gate. We observed that starting from state $|0\\rangle$:<br>\n",
    "1. Increasing the number of measurement shots improved our accuracy to achieve the target state\n",
    "2. A relative phase is introduced if we define our cost function in terms of probabilities only.\n",
    "3. After adding phase term in the cost function, the gradient descent moves in a direction which minimizes the probability difference as well as the relative phase."
   ]
  }
 ],
 "metadata": {
  "kernelspec": {
   "display_name": "Python 3",
   "language": "python",
   "name": "python3"
  },
  "language_info": {
   "codemirror_mode": {
    "name": "ipython",
    "version": 3
   },
   "file_extension": ".py",
   "mimetype": "text/x-python",
   "name": "python",
   "nbconvert_exporter": "python",
   "pygments_lexer": "ipython3",
   "version": "3.7.6"
  }
 },
 "nbformat": 4,
 "nbformat_minor": 4
}
